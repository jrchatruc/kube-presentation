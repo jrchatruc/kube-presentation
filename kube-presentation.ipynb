{
 "cells": [
  {
   "cell_type": "markdown",
   "metadata": {
    "slideshow": {
     "slide_type": "slide"
    }
   },
   "source": [
    "# Kubernetes: container orchestration"
   ]
  },
  {
   "cell_type": "markdown",
   "metadata": {
    "slideshow": {
     "slide_type": "slide"
    }
   },
   "source": [
    "## Docker containers\n",
    "* Program portability\n",
    "* Take a program and all that it contains/needs (dependencies), put it in an image and run it isolated."
   ]
  },
  {
   "cell_type": "markdown",
   "metadata": {
    "slideshow": {
     "slide_type": "subslide"
    }
   },
   "source": [
    "![docker](img/docker.png)"
   ]
  },
  {
   "cell_type": "markdown",
   "metadata": {
    "slideshow": {
     "slide_type": "slide"
    }
   },
   "source": [
    "## Kubernetes\n",
    "* You tell it what you want to run and it decides where to run it (nodes).\n",
    "* The basic unit is the pod, usually with one container but can be more.\n",
    "* Keeps things running and can scale the number of pods.\n",
    "* Problems arise: networking, storage, how do containers find each other, load balancing."
   ]
  },
  {
   "cell_type": "markdown",
   "metadata": {
    "slideshow": {
     "slide_type": "subslide"
    }
   },
   "source": [
    "![kube-architecture](img/kube-architecture.png)"
   ]
  },
  {
   "cell_type": "markdown",
   "metadata": {
    "slideshow": {
     "slide_type": "slide"
    }
   },
   "source": [
    "## Architecture\n",
    "* Master node(s): host the *control plane* that controls the whole kubernetes system (API server, scheduling, replication, node failure handling, etc).\n",
    "* Worker nodes: they run the applications deployed."
   ]
  },
  {
   "cell_type": "markdown",
   "metadata": {
    "slideshow": {
     "slide_type": "subslide"
    }
   },
   "source": [
    "![master-worker](img/master-worker.png)"
   ]
  },
  {
   "cell_type": "markdown",
   "metadata": {
    "slideshow": {
     "slide_type": "slide"
    }
   },
   "source": [
    "## How do I run an application?\n",
    "* Deployments: yaml manifests to tell kubernetes what you need to run.\n",
    "* The deployment sets up a *replica set* that ensures the specified number of replicas (pods) is met.\n",
    "* Old replica sets are stored and can be used for rollbacks."
   ]
  },
  {
   "cell_type": "markdown",
   "metadata": {
    "slideshow": {
     "slide_type": "subslide"
    }
   },
   "source": [
    "```yaml\n",
    "apiVersion: apps/v1\n",
    "kind: Deployment\n",
    "metadata:\n",
    "  name: snacker-deployment\n",
    "spec:\n",
    "  revisionHistoryLimit: 10\n",
    "  replicas: 1\n",
    "  selector:\n",
    "    matchLabels:\n",
    "      app: snacker\n",
    "  template:\n",
    "    metadata:\n",
    "      labels:\n",
    "        app: snacker\n",
    "    spec:\n",
    "      containers:\n",
    "        - name: snacker\n",
    "          image: registry.lambdaclass.com/snackerbis\n",
    "          ports:\n",
    "            - containerPort: 80\n",
    "      imagePullSecrets:\n",
    "        - name: lambdaclass-registry\n",
    "```"
   ]
  },
  {
   "cell_type": "markdown",
   "metadata": {
    "slideshow": {
     "slide_type": "subslide"
    }
   },
   "source": [
    "![deployments](img/deployments.png)"
   ]
  },
  {
   "cell_type": "markdown",
   "metadata": {
    "slideshow": {
     "slide_type": "slide"
    }
   },
   "source": [
    "## Exposing pods to the outside\n",
    "* Because pods are ephemeral, communication to pods is done through *services*.\n",
    "* Services are essentially pod load balancers for applications.\n",
    "* To map specific hosts to services, we use an *ingress*."
   ]
  },
  {
   "cell_type": "markdown",
   "metadata": {
    "slideshow": {
     "slide_type": "subslide"
    }
   },
   "source": [
    "![ingress](img/ingress.png)"
   ]
  },
  {
   "cell_type": "markdown",
   "metadata": {
    "slideshow": {
     "slide_type": "subslide"
    }
   },
   "source": [
    "```yaml\n",
    "apiVersion: extensions/v1beta1\n",
    "kind: Ingress\n",
    "metadata:\n",
    "  name: snackerbis-ingress\n",
    "  annotations:\n",
    "    kubernetes.io/ingress.class: \"nginx\"\n",
    "  labels:\n",
    "    app: snackerbis\n",
    "spec:\n",
    "  rules:\n",
    "  - host: kube.lambdaclass.com\n",
    "    http:\n",
    "      paths:\n",
    "      - path: /snackerbis\n",
    "        backend:\n",
    "          serviceName: snackerbis-service\n",
    "          servicePort: 80\n",
    "```"
   ]
  }
 ],
 "metadata": {
  "kernelspec": {
   "display_name": "Python 3",
   "language": "python",
   "name": "python3"
  },
  "language_info": {
   "codemirror_mode": {
    "name": "ipython",
    "version": 3
   },
   "file_extension": ".py",
   "mimetype": "text/x-python",
   "name": "python",
   "nbconvert_exporter": "python",
   "pygments_lexer": "ipython3",
   "version": "3.7.3"
  }
 },
 "nbformat": 4,
 "nbformat_minor": 4
}
